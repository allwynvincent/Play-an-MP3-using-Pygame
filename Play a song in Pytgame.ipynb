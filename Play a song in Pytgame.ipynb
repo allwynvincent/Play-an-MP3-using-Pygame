{
 "cells": [
  {
   "cell_type": "code",
   "execution_count": 1,
   "metadata": {},
   "outputs": [],
   "source": [
    "import pygame\n",
    "from pygame import mixer,time"
   ]
  },
  {
   "cell_type": "code",
   "execution_count": 2,
   "metadata": {},
   "outputs": [
    {
     "name": "stdout",
     "output_type": "stream",
     "text": [
      "press 'p' to pause and 'r' to resume\n",
      "Press q to quit\n"
     ]
    }
   ],
   "source": [
    "pygame.init()\n",
    "mixer.init()\n",
    "\n",
    "screen = pygame.display.set_mode((600,400))\n",
    "mixer.music.load('country.ogg')\n",
    "mixer.music.play()\n",
    "\n",
    "#while mixer.music.get_busy():\n",
    " #   time.Clock().tick(10)\n",
    "\n",
    "print(\"press 'p' to pause and 'r' to resume\")\n",
    "print(\"Press q to quit\")\n",
    "\n",
    "running = True\n",
    "while running:\n",
    "    for event in pygame.event.get():\n",
    "        if event.type == pygame.QUIT:\n",
    "            running = False\n",
    "        if event.type == pygame.KEYDOWN:\n",
    "            if event.key == pygame.K_p:\n",
    "                mixer.music.pause()\n",
    "            if event.key == pygame.K_r:\n",
    "                mixer.music.unpause()\n",
    "            if event.key == pygame.K_q:\n",
    "                running = False\n",
    "pygame.QUIT\n",
    "quit()\n"
   ]
  },
  {
   "cell_type": "raw",
   "metadata": {},
   "source": []
  }
 ],
 "metadata": {
  "kernelspec": {
   "display_name": "Python [default]",
   "language": "python",
   "name": "python3"
  },
  "language_info": {
   "codemirror_mode": {
    "name": "ipython",
    "version": 3
   },
   "file_extension": ".py",
   "mimetype": "text/x-python",
   "name": "python",
   "nbconvert_exporter": "python",
   "pygments_lexer": "ipython3",
   "version": "3.5.6"
  }
 },
 "nbformat": 4,
 "nbformat_minor": 2
}
